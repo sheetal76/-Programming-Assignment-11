{
  "nbformat": 4,
  "nbformat_minor": 0,
  "metadata": {
    "colab": {
      "provenance": []
    },
    "kernelspec": {
      "name": "python3",
      "display_name": "Python 3"
    },
    "language_info": {
      "name": "python"
    }
  },
  "cells": [
    {
      "cell_type": "code",
      "execution_count": 1,
      "metadata": {
        "id": "GQ580pCnhCzJ"
      },
      "outputs": [],
      "source": [
        "#1. Write a Python program to find words which are greater than given length k?"
      ]
    },
    {
      "cell_type": "code",
      "source": [
        "def len_of_word(list: list, k:int):\n",
        "  l2=[]\n",
        "  for i in list:\n",
        "    if len(i)>k:\n",
        "      l2.append(i)\n",
        "  return l2"
      ],
      "metadata": {
        "id": "2opBnu5-iDS0"
      },
      "execution_count": 10,
      "outputs": []
    },
    {
      "cell_type": "code",
      "source": [
        "len_of_word([\"apple\",\"strawbeery\",\"orange\"],5)"
      ],
      "metadata": {
        "colab": {
          "base_uri": "https://localhost:8080/"
        },
        "id": "8Wa0S7Diiey3",
        "outputId": "c0afd402-7159-4323-e9f2-9d3837869978"
      },
      "execution_count": 11,
      "outputs": [
        {
          "output_type": "execute_result",
          "data": {
            "text/plain": [
              "['strawbeery', 'orange']"
            ]
          },
          "metadata": {},
          "execution_count": 11
        }
      ]
    },
    {
      "cell_type": "code",
      "source": [
        "#2. Write a Python program for removing i-th character from a string?"
      ],
      "metadata": {
        "id": "kRahzKTFhh0N"
      },
      "execution_count": 2,
      "outputs": []
    },
    {
      "cell_type": "code",
      "source": [
        "def str_removal(string: str, char:int):\n",
        "    string = string.replace(string[char], '')\n",
        "    return string\n",
        "str_removal(\"sheetal\",5)"
      ],
      "metadata": {
        "colab": {
          "base_uri": "https://localhost:8080/",
          "height": 35
        },
        "id": "HxXwOoChi2z8",
        "outputId": "5e8bba64-69d1-4f03-ab55-1d842c0e6f10"
      },
      "execution_count": 12,
      "outputs": [
        {
          "output_type": "execute_result",
          "data": {
            "text/plain": [
              "'sheetl'"
            ],
            "application/vnd.google.colaboratory.intrinsic+json": {
              "type": "string"
            }
          },
          "metadata": {},
          "execution_count": 12
        }
      ]
    },
    {
      "cell_type": "code",
      "source": [
        "#3. Write a Python program to split and join a string?"
      ],
      "metadata": {
        "id": "8qqpBRTbhktn"
      },
      "execution_count": 3,
      "outputs": []
    },
    {
      "cell_type": "code",
      "source": [
        "string=\"Hi, This is sheetal\"\n",
        "str2=string.split(' ')\n",
        "print(str2)\n",
        "str3=\" \".join(str2)\n",
        "print(str3)"
      ],
      "metadata": {
        "colab": {
          "base_uri": "https://localhost:8080/"
        },
        "id": "PxSLlBZTjWGq",
        "outputId": "a3b147ad-7a72-45d5-e8af-de6859069c71"
      },
      "execution_count": 13,
      "outputs": [
        {
          "output_type": "stream",
          "name": "stdout",
          "text": [
            "['Hi,', 'This', 'is', 'sheetal']\n",
            "Hi, This is sheetal\n"
          ]
        }
      ]
    },
    {
      "cell_type": "code",
      "source": [
        "#4. Write a Python to check if a given string is binary string or not?"
      ],
      "metadata": {
        "id": "hWVODOC1hnmD"
      },
      "execution_count": 4,
      "outputs": []
    },
    {
      "cell_type": "code",
      "source": [
        "def is_binary_string(s):\n",
        "    # Check if all characters in the string are either '0' or '1'\n",
        "    if all(char == '0' or char == '1' for char in s):\n",
        "        return True\n",
        "    else:\n",
        "        return False\n",
        "\n",
        "# Get input from the user\n",
        "user_input = input(\"Enter a string: \")\n",
        "\n",
        "# Call the function and print the result\n",
        "if is_binary_string(user_input):\n",
        "    print(f\"{user_input} is a binary string.\")\n",
        "else:\n",
        "    print(f\"{user_input} is not a binary string.\")\n"
      ],
      "metadata": {
        "colab": {
          "base_uri": "https://localhost:8080/"
        },
        "id": "HQIp_-NskNz8",
        "outputId": "609b0951-952c-460f-b2a0-478472c27fc5"
      },
      "execution_count": 15,
      "outputs": [
        {
          "output_type": "stream",
          "name": "stdout",
          "text": [
            "Enter a string: sheet\n",
            "sheet is not a binary string.\n"
          ]
        }
      ]
    },
    {
      "cell_type": "code",
      "source": [
        "#5. Write a Python program to find uncommon words from two Strings?"
      ],
      "metadata": {
        "id": "JBsoNuqihsVN"
      },
      "execution_count": 5,
      "outputs": []
    },
    {
      "cell_type": "code",
      "source": [
        "def find_uncommon_words(str1, str2):\n",
        "    # Split the strings into lists of words\n",
        "    words1 = str1.split()\n",
        "    words2 = str2.split()\n",
        "\n",
        "    # Find uncommon words using set operations\n",
        "    uncommon_words = set(words1) ^ set(words2)\n",
        "\n",
        "    return list(uncommon_words)\n",
        "\n",
        "# Get input from the user\n",
        "string1 = input(\"Enter the first string: \")\n",
        "string2 = input(\"Enter the second string: \")\n",
        "\n",
        "# Call the function and print the result\n",
        "result = find_uncommon_words(string1, string2)\n",
        "print(\"Uncommon words:\", result)\n",
        "\n"
      ],
      "metadata": {
        "colab": {
          "base_uri": "https://localhost:8080/"
        },
        "id": "P0hxyHtIna3Y",
        "outputId": "d4b8b9fe-d9ff-4401-e9f9-9d000dd09575"
      },
      "execution_count": 2,
      "outputs": [
        {
          "output_type": "stream",
          "name": "stdout",
          "text": [
            "Enter the first string: my name is sheetal\n",
            "Enter the second string: my name is neha\n",
            "Uncommon words: ['neha', 'sheetal']\n"
          ]
        }
      ]
    },
    {
      "cell_type": "code",
      "source": [
        "#6. Write a Python to find all duplicate characters in string?"
      ],
      "metadata": {
        "id": "_a7AMu1mhvfH"
      },
      "execution_count": 6,
      "outputs": []
    },
    {
      "cell_type": "code",
      "source": [
        "def task6(string: str):\n",
        "    duplicate = []\n",
        "    for i in string:\n",
        "        if string.count(i) > 1:\n",
        "            duplicate.append(i)\n",
        "\n",
        "    return set(duplicate)\n",
        "task6(['me','me','hi','hello'])"
      ],
      "metadata": {
        "colab": {
          "base_uri": "https://localhost:8080/"
        },
        "id": "f9Kbx9lQp2WY",
        "outputId": "686ae461-94cf-42e9-fb04-4b7fe8a2eb6a"
      },
      "execution_count": 6,
      "outputs": [
        {
          "output_type": "execute_result",
          "data": {
            "text/plain": [
              "{'me'}"
            ]
          },
          "metadata": {},
          "execution_count": 6
        }
      ]
    },
    {
      "cell_type": "code",
      "source": [
        "#7. Write a Python Program to check if a string contains any special character?"
      ],
      "metadata": {
        "id": "HCymImCchysZ"
      },
      "execution_count": 7,
      "outputs": []
    },
    {
      "cell_type": "code",
      "source": [
        "def has_special_characters(input_str):\n",
        "  special_characters = \"!@#$%^&*()-_+=[]{}|;:'\\\",.<>?/\"\n",
        "\n",
        "    # Check if any character in the input string is a special character\n",
        "  for char in input_str:\n",
        "        if char in special_characters:\n",
        "            return True\n",
        "\n",
        "  return False\n",
        "\n",
        "user_input = input(\"Enter a string: \")\n",
        "\n",
        "# Call the function and print the result\n",
        "if has_special_characters(user_input):\n",
        "    print(\"The string contains special characters.\")\n",
        "else:\n",
        "    print(\"The string does not contain any special characters.\")\n"
      ],
      "metadata": {
        "colab": {
          "base_uri": "https://localhost:8080/"
        },
        "id": "-b29R7jah10m",
        "outputId": "9bca11df-2f32-4a5e-8c0d-3dc0a77de770"
      },
      "execution_count": 8,
      "outputs": [
        {
          "output_type": "stream",
          "name": "stdout",
          "text": [
            "Enter a string: sheet@!\n",
            "The string contains special characters.\n"
          ]
        }
      ]
    },
    {
      "cell_type": "code",
      "source": [],
      "metadata": {
        "id": "uFDNa6oIqovh"
      },
      "execution_count": null,
      "outputs": []
    }
  ]
}